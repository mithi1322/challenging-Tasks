{
 "cells": [
  {
   "cell_type": "markdown",
   "id": "0d6d56a7-7f1a-4ffc-a7e3-28b643068f23",
   "metadata": {},
   "source": [
    "Q1. You are writing code for a company. The requirement of the company is that you create a python \n",
    "function that will check whether the password entered by the user is correct or not. The function should \n",
    "take the password as input and return the string “Valid Password” if the entered password follows the \n",
    "below-given password guidelines else it should return “Invalid Password”.\n",
    "\n",
    "\n",
    "Note:\n",
    "    \n",
    "    1. The Password should contain at least two uppercase letters and at least two lowercase letters.\n",
    "      \n",
    "    2. The Password should contain at least a number and three special characters.\n",
    "     \n",
    "    3. The length of the password should be 10 characters long.\n",
    "\n",
    "\n"
   ]
  },
  {
   "cell_type": "code",
   "execution_count": 1,
   "id": "497de2ef-0c34-4c27-9b8f-9e3394636626",
   "metadata": {},
   "outputs": [
    {
     "name": "stdin",
     "output_type": "stream",
     "text": [
      "Input your Password: MitHi@#$12\n"
     ]
    },
    {
     "data": {
      "text/plain": [
       "'Valid Password'"
      ]
     },
     "execution_count": 1,
     "metadata": {},
     "output_type": "execute_result"
    }
   ],
   "source": [
    "def check_password(string):\n",
    "    special_char=0\n",
    "    upercase_letter=0\n",
    "    lowercase_letter=0\n",
    "    numeric=0\n",
    "    for i in range(0,len(string)):\n",
    "        if (string[i].isupper()):\n",
    "            upercase_letter+=1\n",
    "        elif (string[i].islower()):\n",
    "            lowercase_letter+=1\n",
    "        elif (string[i].isdigit()):\n",
    "            numeric+=1\n",
    "        else:\n",
    "            special_char+=1\n",
    "    if (upercase_letter>1 and lowercase_letter>1 and numeric>0 and special_char>2 and len(string)==10):\n",
    "        return \"Valid Password\"\n",
    "    else:\n",
    "        return \"Invalid Password\"\n",
    "    \n",
    "    \n",
    "password=str(input(\"Input your Password:\"))\n",
    "check_password(password)\n",
    "            "
   ]
  },
  {
   "cell_type": "markdown",
   "id": "e49097f9-67c8-4193-92a5-cc94c586a83e",
   "metadata": {},
   "source": [
    "Q2. Solve the below-given questions using at least one of the following: \n",
    "\n",
    "1. Lambda function\n",
    "2. Filter function\n",
    "3. map function\n",
    "4. List Comprehension\n",
    "\n",
    "(a) Check if the string starts with a particular letter.\n",
    "\n",
    "(b) Check if the string is numeric.\n",
    "\n",
    "(c) Sort a list of tuples having fruit names and their quantity. [(\"mango\",99),(\"orange\",80), (\"grapes\", 1000).\n",
    "                                                                  \n",
    "(d) Find the squares of numbers from 1 to 10.\n",
    "                                                                  \n",
    "(e) Find the cube root of numbers from 1 to 10.\n",
    "                                                                  \n",
    "(f) Check if a given number is even.\n",
    "                                                                  \n",
    "(g) Filter odd numbers from the given list.\n",
    "                                                                  \n",
    "         [1,2,3,4,5,6,7,8,9,10]\n",
    "(h) Sort a list of integers into positive and negative integers lists.\n",
    "                                                                  \n",
    "         [1,2,3,4,5,6,-1,-2,-3,-4,-5,0]"
   ]
  },
  {
   "cell_type": "code",
   "execution_count": 2,
   "id": "8ac2f046-387b-42e8-91cf-8c72670999ec",
   "metadata": {},
   "outputs": [
    {
     "name": "stdout",
     "output_type": "stream",
     "text": [
      "The String starts with a letter\n"
     ]
    }
   ],
   "source": [
    "# Check if the string starts with a particular letter.\n",
    "\n",
    "import re\n",
    "sample_str = \"Check String\"\n",
    "if re.search(\"^[a-zA-Z]\", sample_str) is not None:\n",
    "    print(\"The String starts with a letter\")\n",
    "else:\n",
    "    print(\"The String not starts with a letter\")\n",
    "    "
   ]
  },
  {
   "cell_type": "code",
   "execution_count": 3,
   "id": "9db90f2f-bdb3-46ad-9f26-6db4e553fd39",
   "metadata": {},
   "outputs": [
    {
     "name": "stdout",
     "output_type": "stream",
     "text": [
      "This String is not numeric\n"
     ]
    }
   ],
   "source": [
    "# Check if the string is numeric.\n",
    "\n",
    "string=\"131String\"\n",
    "count=0\n",
    "for i in range(0,len(string)):\n",
    "    if(string[i].isnumeric()):\n",
    "        continue\n",
    "    else:\n",
    "        count+=1\n",
    "if count==0:\n",
    "    print(\"This String is numeric\")\n",
    "else:\n",
    "    print(\"This String is not numeric\")\n",
    "    "
   ]
  },
  {
   "cell_type": "code",
   "execution_count": 4,
   "id": "359f30cf-6a52-4520-a88e-cfffa4f35849",
   "metadata": {},
   "outputs": [
    {
     "name": "stdout",
     "output_type": "stream",
     "text": [
      "[('grapes', 1000), ('mango', 99), ('orange', 80)]\n"
     ]
    }
   ],
   "source": [
    "# Sort a list of tuples having fruit names and their quantity. [(\"mango\",99),(\"orange\",80), (\"grapes\", 1000).\n",
    "\n",
    "lists= [(\"mango\",99),(\"orange\",80), (\"grapes\", 1000)]\n",
    "print(sorted(lists))"
   ]
  },
  {
   "cell_type": "code",
   "execution_count": 5,
   "id": "057a7ffc-29eb-4c26-87a1-be181263485f",
   "metadata": {},
   "outputs": [
    {
     "name": "stdout",
     "output_type": "stream",
     "text": [
      "[1, 2, 3, 4, 5, 6, 7, 8, 9, 10]\n",
      "[1, 4, 9, 16, 25, 36, 49, 64, 81, 100]\n"
     ]
    }
   ],
   "source": [
    "# Find the squares of numbers from 1 to 10.\n",
    "nums=list(range(1,11))\n",
    "print(nums)\n",
    "print(list(map(lambda x:x**2,nums)))"
   ]
  },
  {
   "cell_type": "code",
   "execution_count": 6,
   "id": "9e5f259c-d0a2-442b-bc0a-717163fda648",
   "metadata": {},
   "outputs": [
    {
     "name": "stdout",
     "output_type": "stream",
     "text": [
      "[1, 2, 3, 4, 5, 6, 7, 8, 9, 10]\n",
      "[1.0, 1.2599210498948732, 1.4422495703074083, 1.5874010519681994, 1.7099759466766968, 1.8171205928321397, 1.912931182772389, 2.0, 2.080083823051904, 2.154434690031884]\n"
     ]
    }
   ],
   "source": [
    "# Find the cube root of numbers from 1 to 10.\n",
    "nums1=list(range(1,11))\n",
    "print(nums1)\n",
    "print(list(map(lambda x:x**(1/3),nums1)))\n"
   ]
  },
  {
   "cell_type": "code",
   "execution_count": 10,
   "id": "b5e2b2aa-a59d-4bc3-babc-a5253390244c",
   "metadata": {},
   "outputs": [
    {
     "name": "stdin",
     "output_type": "stream",
     "text": [
      "Enter number: 4545\n"
     ]
    },
    {
     "name": "stdout",
     "output_type": "stream",
     "text": [
      "This number is not even Number\n"
     ]
    }
   ],
   "source": [
    "# Check if a given number is even.\n",
    "\n",
    "num=int(input(\"Enter number:\"))\n",
    "if num%2==0:\n",
    "    print(\"This number is even Number\")\n",
    "else:\n",
    "    print(\"This number is not even Number\")"
   ]
  },
  {
   "cell_type": "code",
   "execution_count": 11,
   "id": "5d9fb758-a971-4f76-a93a-fdfbd64438d1",
   "metadata": {},
   "outputs": [
    {
     "name": "stdout",
     "output_type": "stream",
     "text": [
      "[1, 3, 5, 7, 9]\n"
     ]
    }
   ],
   "source": [
    "# Filter odd numbers from the given list.\n",
    "\n",
    "l=[1,2,3,4,5,6,7,8,9,10]\n",
    "print(list(filter(lambda x:x%2==1,l)))\n"
   ]
  },
  {
   "cell_type": "code",
   "execution_count": 12,
   "id": "9d21427b-62b2-45f7-81a5-2150f026ee93",
   "metadata": {},
   "outputs": [
    {
     "name": "stdout",
     "output_type": "stream",
     "text": [
      "[-5, -4, -3, -2, -1, 0, 1, 2, 3, 4, 5, 6]\n"
     ]
    }
   ],
   "source": [
    "# Sort a list of integers into positive and negative integers lists.\n",
    "\n",
    "l1=[1,2,3,4,5,6,-1,-2,-3,-4,-5,0]\n",
    "l2=sorted(l1)\n",
    "print(l2)"
   ]
  },
  {
   "cell_type": "code",
   "execution_count": null,
   "id": "7c6544db-45a1-4d31-8521-25daa6e69446",
   "metadata": {},
   "outputs": [],
   "source": []
  }
 ],
 "metadata": {
  "kernelspec": {
   "display_name": "Python 3 (ipykernel)",
   "language": "python",
   "name": "python3"
  },
  "language_info": {
   "codemirror_mode": {
    "name": "ipython",
    "version": 3
   },
   "file_extension": ".py",
   "mimetype": "text/x-python",
   "name": "python",
   "nbconvert_exporter": "python",
   "pygments_lexer": "ipython3",
   "version": "3.10.8"
  }
 },
 "nbformat": 4,
 "nbformat_minor": 5
}
