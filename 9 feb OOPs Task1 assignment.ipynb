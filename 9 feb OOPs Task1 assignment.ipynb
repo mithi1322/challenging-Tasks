{
 "cells": [
  {
   "cell_type": "markdown",
   "id": "5a278cf7-e5e6-4725-be4b-d04397ed1085",
   "metadata": {},
   "source": [
    "Q1, Create a vehicle class with an init method having instance variables as name_of_vehicle, max_speed\n",
    "and average_of_vehicle."
   ]
  },
  {
   "cell_type": "code",
   "execution_count": 3,
   "id": "86c95c6c-0852-4d7a-adc8-187784099648",
   "metadata": {},
   "outputs": [
    {
     "name": "stdout",
     "output_type": "stream",
     "text": [
      "BMW 250 180\n",
      "BMW\n"
     ]
    }
   ],
   "source": [
    "class vehicle():\n",
    "    def __init__(self,name_of_vehicle,max_speed,average_of_speed):\n",
    "        self.name_of_vehicle=name_of_vehicle\n",
    "        self.max_speed=max_speed\n",
    "        self.average_speed=average_of_speed\n",
    "        \n",
    "    def vehicle_details(self):\n",
    "        print(self.name_of_vehicle,self.max_speed,self.average_speed)\n",
    "        \n",
    "vehicle_obj=vehicle(\"BMW\",250,180)\n",
    "vehicle_obj.vehicle_details()\n",
    "print(vehicle_obj.name_of_vehicle)"
   ]
  },
  {
   "cell_type": "markdown",
   "id": "c407917b-5237-461f-a651-9bc749274014",
   "metadata": {},
   "source": [
    "Q2.  Create a child class car from the vehicle class created in Que 1, which will inherit the vehicle class.\n",
    "Create a method named seating_capacity which takes capacity as an argument and returns the name of\n",
    "the vehicle and its seating capacity."
   ]
  },
  {
   "cell_type": "code",
   "execution_count": 9,
   "id": "f3dcdac2-c032-432c-8341-64d63985ceec",
   "metadata": {},
   "outputs": [
    {
     "name": "stdout",
     "output_type": "stream",
     "text": [
      "('BMW Car', 'has a seating capacity of', 5, 'passengers')\n"
     ]
    }
   ],
   "source": [
    "class Car(vehicle):\n",
    "    def __init__(self, name_of_vehicle, max_speed, average_of_vehicle):\n",
    "        super().__init__(name_of_vehicle, max_speed, average_of_vehicle)\n",
    "\n",
    "    def seating_capacity(self, capacity):\n",
    "        return (self.name_of_vehicle,\"has a seating capacity of\", capacity, \"passengers\")\n",
    "    \n",
    "car = Car(\"BMW Car\",250,180)\n",
    "print(car.seating_capacity(5))\n"
   ]
  },
  {
   "cell_type": "markdown",
   "id": "1fd65541-b3cf-4ac3-a0b9-515b2e960f77",
   "metadata": {},
   "source": [
    "Q3. What is multiple inheritance? Write a python code to demonstrate multiple inheritance."
   ]
  },
  {
   "cell_type": "code",
   "execution_count": 23,
   "id": "5a9d39f8-d570-4d0a-a723-8e9bef925122",
   "metadata": {},
   "outputs": [
    {
     "name": "stdout",
     "output_type": "stream",
     "text": [
      "German sepherd\n",
      "Charlie\n",
      "The animal is eating.\n",
      "The pet is playing.\n",
      "The dog is barking.\n"
     ]
    }
   ],
   "source": [
    "#Multiple inheritance is a feature in object-oriented programming where a class can inherit from multiple parent classes.\n",
    "#This means that a child class can inherit attributes and methods from multiple parent classes\n",
    "\n",
    "# Example\n",
    "\n",
    "class Animal:\n",
    "    def __init__(self, species):\n",
    "        self.species = species\n",
    "    \n",
    "    def eat(self):\n",
    "        print(\"The animal is eating.\")\n",
    "\n",
    "class Pet:\n",
    "    def __init__(self, name):\n",
    "        self.name = name\n",
    "    \n",
    "    def play(self):\n",
    "        print(\"The pet is playing.\")\n",
    "\n",
    "class Dog(Animal, Pet):\n",
    "    def __init__(self, species, name, breed):\n",
    "        Animal.__init__(self, species)\n",
    "        Pet.__init__(self, name)\n",
    "        self.breed = breed\n",
    "    \n",
    "    def bark(self):\n",
    "        print(\"The dog is barking.\")\n",
    "\n",
    "my_dog = Dog(\"German sepherd\", \"Charlie\", \"Golden Retriever\")\n",
    "print(my_dog.species) \n",
    "print(my_dog.name) \n",
    "my_dog.eat() \n",
    "my_dog.play() \n",
    "my_dog.bark() \n",
    "\n"
   ]
  },
  {
   "cell_type": "markdown",
   "id": "9381cd1f-479a-4039-b1c1-022c092df1f3",
   "metadata": {},
   "source": [
    "Q4. What are getter and setter in python? Create a class and create a getter and a setter method in this\n",
    "class."
   ]
  },
  {
   "cell_type": "code",
   "execution_count": 24,
   "id": "dad50c73-249b-49cd-a89e-d0783d848b45",
   "metadata": {},
   "outputs": [
    {
     "name": "stdout",
     "output_type": "stream",
     "text": [
      "Rohit\n",
      "Mithilesh\n"
     ]
    }
   ],
   "source": [
    "# In python a getter method is a method that returns the value of a private instance variable\n",
    "# and a setter method is a method that sets the value of a private instance variable\n",
    "\n",
    "class My_details:\n",
    "    def __init__(self, name):\n",
    "        self.__name = name \n",
    "    \n",
    "    def get_name(self):\n",
    "        return self.__name\n",
    "    \n",
    "    def set_name(self, new_name):\n",
    "        self.__name = new_name\n",
    " \n",
    "p=My_details(\"Rohit\")\n",
    "print(p.get_name())\n",
    "p.set_name(\"Mithilesh\")\n",
    "print(p.get_name())"
   ]
  },
  {
   "cell_type": "markdown",
   "id": "d28a77e0-7134-4c8d-ae8c-4cacc77d5035",
   "metadata": {},
   "source": [
    "Q5.What is method overriding in python? Write a python code to demonstrate method overriding."
   ]
  },
  {
   "cell_type": "code",
   "execution_count": 21,
   "id": "fe4580ca-e4cc-4631-aa10-d1e31a8e3ab5",
   "metadata": {},
   "outputs": [
    {
     "name": "stdout",
     "output_type": "stream",
     "text": [
      "The animal makes a sound.\n",
      "The dog barks.\n",
      "The cat meows.\n"
     ]
    }
   ],
   "source": [
    "'''Method overriding is a feature in object-oriented programming where a subclass can provide its own implementation of a method that is already defined in its superclass.\n",
    "The subclass method overrides the superclass method, meaning that when the method is called on an instance of the subclass,\n",
    "the subclass implementation is executed instead of the superclass implementation.'''\n",
    "\n",
    "class Animal:\n",
    "    def make_sound(self):\n",
    "        print(\"The animal makes a sound.\")\n",
    "\n",
    "class Dog(Animal):\n",
    "    def make_sound(self):\n",
    "        print(\"The dog barks.\")\n",
    "\n",
    "class Cat(Animal):\n",
    "    def make_sound(self):\n",
    "        print(\"The cat meows.\")\n",
    "\n",
    "animal = Animal()\n",
    "dog = Dog()\n",
    "cat = Cat()\n",
    "animal.make_sound()\n",
    "dog.make_sound()     \n",
    "cat.make_sound()    \n"
   ]
  },
  {
   "cell_type": "code",
   "execution_count": null,
   "id": "dfc89086-7ed7-46db-abc3-a4d8c766b579",
   "metadata": {},
   "outputs": [],
   "source": []
  },
  {
   "cell_type": "code",
   "execution_count": null,
   "id": "0599305f-4c97-432c-acf5-a54351f4eed0",
   "metadata": {},
   "outputs": [],
   "source": []
  }
 ],
 "metadata": {
  "kernelspec": {
   "display_name": "Python 3 (ipykernel)",
   "language": "python",
   "name": "python3"
  },
  "language_info": {
   "codemirror_mode": {
    "name": "ipython",
    "version": 3
   },
   "file_extension": ".py",
   "mimetype": "text/x-python",
   "name": "python",
   "nbconvert_exporter": "python",
   "pygments_lexer": "ipython3",
   "version": "3.10.8"
  }
 },
 "nbformat": 4,
 "nbformat_minor": 5
}
