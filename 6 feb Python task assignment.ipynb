{
 "cells": [
  {
   "cell_type": "markdown",
   "id": "0bb8c070-a218-49fe-b16e-7c2a8b30e1ff",
   "metadata": {},
   "source": [
    "Q1. Create a function which will take a list as an argument and return the product of all the numbers \n",
    "after creating a flat list.\n",
    "\n",
    "Use the below-given list as an argument for your function.\n",
    "\n",
    "\n",
    "list1 = [1,2,3,4, [44,55,66, True], False, (34,56,78,89,34), {1,2,3,3,2,1}, {1:34, \"key2\": [55, 67, 78, 89], 4: (45, \n",
    "22, 61, 34)}, [56, 'data science'], 'Machine Learning']\n",
    "\n",
    "\n",
    "Note: you must extract numeric keys and values of the dictionary also.\n"
   ]
  },
  {
   "cell_type": "code",
   "execution_count": 1,
   "id": "3372d9ce-0972-4f52-b3ef-a1658b2ebd85",
   "metadata": {},
   "outputs": [
    {
     "name": "stdout",
     "output_type": "stream",
     "text": [
      "(78718933113238978560, 'flat list:', [1, 2, 3, 4, 44, 55, 66, 34, 56, 78, 89, 34, 1, 2, 3, 34, 1, 4, 56])\n"
     ]
    }
   ],
   "source": [
    "list1 = [1,2,3,4, [44,55,66, True], False, (34,56,78,89,34), {1,2,3,3,2,1}, {1:34, \"key2\": [55, 67, 78, 89], 4: (45, 22, 61, 34)}, [56, 'data science'], 'Machine Learning']\n",
    "\n",
    "def product_of_numbers(lst):\n",
    "    product = 1\n",
    "    flat_lst = []\n",
    "    for item in lst:\n",
    "        if type(item) == list or type(item) == tuple or type(item) == set:\n",
    "            flat_lst.extend([x for x in item if type(x) == int or type(x) == float])\n",
    "        elif type(item) == dict:\n",
    "            flat_lst.extend([val for val in item.values() if type(val) == int or type(val) == float])\n",
    "            flat_lst.extend([key for key in item.keys() if type(key) == int or type(key) == float])\n",
    "        elif type(item) == int or type(item) == float:\n",
    "            flat_lst.append(item)\n",
    "    \n",
    "    for num in flat_lst:\n",
    "        product = product*num\n",
    "    return(product,\"flat list:\",flat_lst)\n",
    " \n",
    "print(product_of_numbers(list1))\n",
    "\n"
   ]
  },
  {
   "cell_type": "markdown",
   "id": "70940069-9ecd-48b0-98c2-a104e4413fb9",
   "metadata": {},
   "source": [
    "Q2. Write a python program for encrypting a message sent to you by your friend. The logic of encryption \n",
    "should be such that, for a the output should be z. For b, the output should be y. For c, the output should \n",
    "be x respectively. Also, the whitespace should be replaced with a dollar sign. Keep the punctuation \n",
    "marks unchanged.\n",
    "\n",
    "\n",
    "Input Sentence: I want to become a Data Scientist.\n",
    "\n",
    "\n",
    "Encrypt the above input sentence using the program you just created.\n",
    "\n",
    "\n",
    "Note: Convert the given input sentence into lowercase before encrypting. The final output should be \n",
    "lowercase."
   ]
  },
  {
   "cell_type": "code",
   "execution_count": 2,
   "id": "ad0d6f39-1342-453b-b33b-032982107365",
   "metadata": {},
   "outputs": [
    {
     "name": "stdout",
     "output_type": "stream",
     "text": [
      "i$wznt$to$yexome$z$dztz$sxientist\n"
     ]
    }
   ],
   "source": [
    "Input_Sentence =\"I want to become a Data Scientist\"\n",
    "Input_Sentence=Input_Sentence.lower()\n",
    "dicts={\"a\":\"z\",\"b\":\"y\",\"c\":\"x\",\" \":\"$\"}\n",
    "for i in dicts:\n",
    "    Input_Sentence=Input_Sentence.replace(i,dicts[i])\n",
    "print(Input_Sentence)\n"
   ]
  },
  {
   "cell_type": "code",
   "execution_count": null,
   "id": "9f6be67e-200d-453e-8d40-fb164dda1fde",
   "metadata": {},
   "outputs": [],
   "source": []
  },
  {
   "cell_type": "code",
   "execution_count": null,
   "id": "5f52da29-79c4-4047-9f57-bbfbc50b229a",
   "metadata": {},
   "outputs": [],
   "source": []
  }
 ],
 "metadata": {
  "kernelspec": {
   "display_name": "Python 3 (ipykernel)",
   "language": "python",
   "name": "python3"
  },
  "language_info": {
   "codemirror_mode": {
    "name": "ipython",
    "version": 3
   },
   "file_extension": ".py",
   "mimetype": "text/x-python",
   "name": "python",
   "nbconvert_exporter": "python",
   "pygments_lexer": "ipython3",
   "version": "3.10.8"
  }
 },
 "nbformat": 4,
 "nbformat_minor": 5
}
